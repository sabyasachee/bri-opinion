{
 "cells": [
  {
   "cell_type": "code",
   "execution_count": 7,
   "metadata": {},
   "outputs": [],
   "source": [
    "import os\n",
    "import json\n",
    "from copy import copy, deepcopy\n",
    "import torch\n",
    "import numpy as np"
   ]
  },
  {
   "cell_type": "code",
   "execution_count": 2,
   "metadata": {},
   "outputs": [],
   "source": [
    "mpqa2_docids = open(\"/workspace/opinion/data/30-mpqa/database.mpqa.2.0/doclist.attitudeSubset\").read().splitlines()\n",
    "\n",
    "dev_docids = open(\"/workspace/opinion/baselines/02-naacl-mpqa-srl4orl/datasplit/new/filelist_dev\").read().splitlines()\n",
    "test_docids = open(\"/workspace/opinion/baselines/02-naacl-mpqa-srl4orl/datasplit/new/filelist_test0\").read().splitlines()\n",
    "train_docids = open(\"/workspace/opinion/baselines/02-naacl-mpqa-srl4orl/datasplit/new/filelist_train0\").read().splitlines()"
   ]
  },
  {
   "cell_type": "code",
   "execution_count": 3,
   "metadata": {},
   "outputs": [
    {
     "name": "stdout",
     "output_type": "stream",
     "text": [
      "506 287 95 100\n"
     ]
    }
   ],
   "source": [
    "print(len(mpqa2_docids), len(train_docids), len(test_docids), len(dev_docids))"
   ]
  },
  {
   "cell_type": "code",
   "execution_count": 4,
   "metadata": {},
   "outputs": [],
   "source": [
    "srl4orl_docids = train_docids + dev_docids + test_docids"
   ]
  },
  {
   "cell_type": "code",
   "execution_count": 5,
   "metadata": {},
   "outputs": [
    {
     "data": {
      "text/plain": [
       "True"
      ]
     },
     "execution_count": 5,
     "metadata": {},
     "output_type": "execute_result"
    }
   ],
   "source": [
    "set(mpqa2_docids).issuperset(srl4orl_docids)"
   ]
  },
  {
   "cell_type": "code",
   "execution_count": 7,
   "metadata": {},
   "outputs": [
    {
     "data": {
      "text/plain": [
       "[7, 3]"
      ]
     },
     "execution_count": 7,
     "metadata": {},
     "output_type": "execute_result"
    }
   ],
   "source": [
    "def base_n(val, base, digits):\n",
    "    if val > 0:\n",
    "        digits.append(val%base)\n",
    "        val = val // base\n",
    "        base_n(val, base, digits)\n",
    "\n",
    "def convert_to_base_n(val, base):\n",
    "    if val == 0:\n",
    "        return 0\n",
    "    digits = []\n",
    "    base_n(val, base, digits)\n",
    "    return list(reversed(digits))\n",
    "\n",
    "convert_to_base_n(87, 12)"
   ]
  },
  {
   "cell_type": "code",
   "execution_count": 9,
   "metadata": {},
   "outputs": [],
   "source": [
    "def perm(level, m, n, path, allpaths):\n",
    "    if level == m:\n",
    "        allpaths.append(path)\n",
    "    else:\n",
    "        for i in range(n):\n",
    "            newpath = copy(path) + [i]\n",
    "            perm(level + 1, m, n, newpath, allpaths)\n",
    "\n",
    "allpaths = []\n",
    "perm(0, 3, 3, [], allpaths)"
   ]
  },
  {
   "cell_type": "code",
   "execution_count": 10,
   "metadata": {},
   "outputs": [
    {
     "data": {
      "text/plain": [
       "[[0, 0, 0],\n",
       " [0, 0, 1],\n",
       " [0, 0, 2],\n",
       " [0, 1, 0],\n",
       " [0, 1, 1],\n",
       " [0, 1, 2],\n",
       " [0, 2, 0],\n",
       " [0, 2, 1],\n",
       " [0, 2, 2],\n",
       " [1, 0, 0],\n",
       " [1, 0, 1],\n",
       " [1, 0, 2],\n",
       " [1, 1, 0],\n",
       " [1, 1, 1],\n",
       " [1, 1, 2],\n",
       " [1, 2, 0],\n",
       " [1, 2, 1],\n",
       " [1, 2, 2],\n",
       " [2, 0, 0],\n",
       " [2, 0, 1],\n",
       " [2, 0, 2],\n",
       " [2, 1, 0],\n",
       " [2, 1, 1],\n",
       " [2, 1, 2],\n",
       " [2, 2, 0],\n",
       " [2, 2, 1],\n",
       " [2, 2, 2]]"
      ]
     },
     "execution_count": 10,
     "metadata": {},
     "output_type": "execute_result"
    }
   ],
   "source": [
    "allpaths"
   ]
  },
  {
   "cell_type": "code",
   "execution_count": 2,
   "metadata": {},
   "outputs": [],
   "source": [
    "t = torch.randn((2, 2))"
   ]
  },
  {
   "cell_type": "code",
   "execution_count": 3,
   "metadata": {},
   "outputs": [
    {
     "data": {
      "text/plain": [
       "tensor([[ 0.0663, -1.0796],\n",
       "        [ 1.3548, -0.7043]])"
      ]
     },
     "execution_count": 3,
     "metadata": {},
     "output_type": "execute_result"
    }
   ],
   "source": [
    "t"
   ]
  },
  {
   "cell_type": "code",
   "execution_count": 6,
   "metadata": {},
   "outputs": [
    {
     "data": {
      "text/plain": [
       "tensor([[ 0.0663, -1.0796],\n",
       "        [ 0.0663, -1.0796],\n",
       "        [ 1.3548, -0.7043],\n",
       "        [ 1.3548, -0.7043]])"
      ]
     },
     "execution_count": 6,
     "metadata": {},
     "output_type": "execute_result"
    }
   ],
   "source": [
    "t.repeat_interleave(2, dim=0)"
   ]
  },
  {
   "cell_type": "code",
   "execution_count": 9,
   "metadata": {},
   "outputs": [],
   "source": [
    "x = torch.full((2, 3), -np.inf)"
   ]
  },
  {
   "cell_type": "code",
   "execution_count": 10,
   "metadata": {},
   "outputs": [
    {
     "data": {
      "text/plain": [
       "tensor([[True, True, True],\n",
       "        [True, True, True]])"
      ]
     },
     "execution_count": 10,
     "metadata": {},
     "output_type": "execute_result"
    }
   ],
   "source": [
    "torch.isneginf(x)"
   ]
  },
  {
   "cell_type": "code",
   "execution_count": 16,
   "metadata": {},
   "outputs": [],
   "source": [
    "a = torch.randn((2, 1))\n",
    "b = torch.randn((2, 2))"
   ]
  },
  {
   "cell_type": "code",
   "execution_count": 17,
   "metadata": {},
   "outputs": [
    {
     "data": {
      "text/plain": [
       "(tensor([[ 0.3694],\n",
       "         [-0.3209]]),\n",
       " tensor([[ 1.2807, -0.0709],\n",
       "         [ 1.1462,  0.1452]]))"
      ]
     },
     "execution_count": 17,
     "metadata": {},
     "output_type": "execute_result"
    }
   ],
   "source": [
    "a, b"
   ]
  },
  {
   "cell_type": "code",
   "execution_count": 18,
   "metadata": {},
   "outputs": [
    {
     "data": {
      "text/plain": [
       "tensor([[ 1.6501,  0.2984],\n",
       "        [ 0.8253, -0.1756]])"
      ]
     },
     "execution_count": 18,
     "metadata": {},
     "output_type": "execute_result"
    }
   ],
   "source": [
    "a + b"
   ]
  },
  {
   "cell_type": "code",
   "execution_count": 19,
   "metadata": {},
   "outputs": [],
   "source": [
    "z = np.random.randn(2, 3, 4)"
   ]
  },
  {
   "cell_type": "code",
   "execution_count": 20,
   "metadata": {},
   "outputs": [
    {
     "data": {
      "text/plain": [
       "array([[[ 0.01216562,  1.50855614,  0.57930131, -0.36735845],\n",
       "        [-1.32607855,  0.40763862,  1.04598649, -0.26717203],\n",
       "        [ 0.39994192,  0.71066481, -0.55297391,  0.48488782]],\n",
       "\n",
       "       [[ 0.64331857, -0.36258601, -2.51173549,  1.30932024],\n",
       "        [ 0.76419553,  0.418696  ,  0.39135371, -0.14745098],\n",
       "        [ 2.3234002 ,  0.60814347, -2.07335072, -0.56402561]]])"
      ]
     },
     "execution_count": 20,
     "metadata": {},
     "output_type": "execute_result"
    }
   ],
   "source": [
    "z.copy()"
   ]
  },
  {
   "cell_type": "code",
   "execution_count": 21,
   "metadata": {},
   "outputs": [
    {
     "data": {
      "text/plain": [
       "array([[ 0.01216562,  1.50855614,  0.57930131, -0.36735845],\n",
       "       [-1.32607855,  0.40763862,  1.04598649, -0.26717203],\n",
       "       [ 0.39994192,  0.71066481, -0.55297391,  0.48488782],\n",
       "       [ 0.64331857, -0.36258601, -2.51173549,  1.30932024],\n",
       "       [ 0.76419553,  0.418696  ,  0.39135371, -0.14745098],\n",
       "       [ 2.3234002 ,  0.60814347, -2.07335072, -0.56402561]])"
      ]
     },
     "execution_count": 21,
     "metadata": {},
     "output_type": "execute_result"
    }
   ],
   "source": [
    "z.reshape(6, 4)"
   ]
  },
  {
   "cell_type": "code",
   "execution_count": 22,
   "metadata": {},
   "outputs": [],
   "source": [
    "encoding = torch.randn((2, 5, 3))"
   ]
  },
  {
   "cell_type": "code",
   "execution_count": 23,
   "metadata": {},
   "outputs": [
    {
     "data": {
      "text/plain": [
       "tensor([[[-0.1992,  0.9159, -1.1039],\n",
       "         [-0.3144,  1.3942,  0.4294],\n",
       "         [-0.2407, -0.1034, -0.2558],\n",
       "         [ 0.4851, -0.2881, -1.7557],\n",
       "         [ 0.5647,  0.4706,  0.4288]],\n",
       "\n",
       "        [[-0.5440, -0.3124, -0.6409],\n",
       "         [ 0.5141, -0.0811, -0.4589],\n",
       "         [ 0.7985,  1.2476, -0.6412],\n",
       "         [-0.1808, -0.2774, -0.5746],\n",
       "         [-0.0854,  1.1791, -1.8555]]])"
      ]
     },
     "execution_count": 23,
     "metadata": {},
     "output_type": "execute_result"
    }
   ],
   "source": [
    "encoding"
   ]
  },
  {
   "cell_type": "code",
   "execution_count": 24,
   "metadata": {},
   "outputs": [
    {
     "data": {
      "text/plain": [
       "tensor([[[-0.1992,  0.9159, -1.1039],\n",
       "         [-0.3144,  1.3942,  0.4294],\n",
       "         [-0.2407, -0.1034, -0.2558],\n",
       "         [ 0.4851, -0.2881, -1.7557],\n",
       "         [ 0.5647,  0.4706,  0.4288]],\n",
       "\n",
       "        [[-0.1992,  0.9159, -1.1039],\n",
       "         [-0.3144,  1.3942,  0.4294],\n",
       "         [-0.2407, -0.1034, -0.2558],\n",
       "         [ 0.4851, -0.2881, -1.7557],\n",
       "         [ 0.5647,  0.4706,  0.4288]],\n",
       "\n",
       "        [[-0.5440, -0.3124, -0.6409],\n",
       "         [ 0.5141, -0.0811, -0.4589],\n",
       "         [ 0.7985,  1.2476, -0.6412],\n",
       "         [-0.1808, -0.2774, -0.5746],\n",
       "         [-0.0854,  1.1791, -1.8555]],\n",
       "\n",
       "        [[-0.5440, -0.3124, -0.6409],\n",
       "         [ 0.5141, -0.0811, -0.4589],\n",
       "         [ 0.7985,  1.2476, -0.6412],\n",
       "         [-0.1808, -0.2774, -0.5746],\n",
       "         [-0.0854,  1.1791, -1.8555]]])"
      ]
     },
     "execution_count": 24,
     "metadata": {},
     "output_type": "execute_result"
    }
   ],
   "source": [
    "encoding.repeat_interleave(2, dim=0)"
   ]
  },
  {
   "cell_type": "code",
   "execution_count": 25,
   "metadata": {},
   "outputs": [
    {
     "data": {
      "text/plain": [
       "array([0., 0., 0., 0., 0.])"
      ]
     },
     "execution_count": 25,
     "metadata": {},
     "output_type": "execute_result"
    }
   ],
   "source": [
    "np.zeros((5,))"
   ]
  },
  {
   "cell_type": "code",
   "execution_count": 26,
   "metadata": {},
   "outputs": [],
   "source": [
    "t = torch.zeros((3, 4), dtype=torch.long, device=\"cuda:0\")"
   ]
  },
  {
   "cell_type": "code",
   "execution_count": 27,
   "metadata": {},
   "outputs": [
    {
     "data": {
      "text/plain": [
       "tensor([[0, 0, 0, 0],\n",
       "        [0, 0, 0, 0],\n",
       "        [0, 0, 0, 0]], device='cuda:0')"
      ]
     },
     "execution_count": 27,
     "metadata": {},
     "output_type": "execute_result"
    }
   ],
   "source": [
    "t"
   ]
  },
  {
   "cell_type": "code",
   "execution_count": 28,
   "metadata": {},
   "outputs": [
    {
     "data": {
      "text/plain": [
       "torch.int64"
      ]
     },
     "execution_count": 28,
     "metadata": {},
     "output_type": "execute_result"
    }
   ],
   "source": [
    "t.dtype"
   ]
  },
  {
   "cell_type": "code",
   "execution_count": 29,
   "metadata": {},
   "outputs": [
    {
     "ename": "TypeError",
     "evalue": "can't assign a list to a torch.cuda.LongTensor",
     "output_type": "error",
     "traceback": [
      "\u001b[0;31m---------------------------------------------------------------------------\u001b[0m",
      "\u001b[0;31mTypeError\u001b[0m                                 Traceback (most recent call last)",
      "\u001b[0;32m<ipython-input-29-c91aa2dfb13a>\u001b[0m in \u001b[0;36m<module>\u001b[0;34m\u001b[0m\n\u001b[0;32m----> 1\u001b[0;31m \u001b[0mt\u001b[0m\u001b[0;34m[\u001b[0m\u001b[0;36m1\u001b[0m\u001b[0;34m,\u001b[0m\u001b[0;34m:\u001b[0m\u001b[0;36m3\u001b[0m\u001b[0;34m]\u001b[0m \u001b[0;34m=\u001b[0m \u001b[0;34m[\u001b[0m\u001b[0;36m1\u001b[0m\u001b[0;34m,\u001b[0m\u001b[0;36m2\u001b[0m\u001b[0;34m,\u001b[0m\u001b[0;36m3\u001b[0m\u001b[0;34m]\u001b[0m\u001b[0;34m\u001b[0m\u001b[0;34m\u001b[0m\u001b[0m\n\u001b[0m",
      "\u001b[0;31mTypeError\u001b[0m: can't assign a list to a torch.cuda.LongTensor"
     ]
    }
   ],
   "source": [
    "t[1,:3] = [1,2,3]"
   ]
  },
  {
   "cell_type": "code",
   "execution_count": 30,
   "metadata": {},
   "outputs": [],
   "source": [
    "t[1,2] = 5"
   ]
  },
  {
   "cell_type": "code",
   "execution_count": 31,
   "metadata": {},
   "outputs": [
    {
     "data": {
      "text/plain": [
       "tensor([[0, 0, 0, 0],\n",
       "        [0, 0, 5, 0],\n",
       "        [0, 0, 0, 0]], device='cuda:0')"
      ]
     },
     "execution_count": 31,
     "metadata": {},
     "output_type": "execute_result"
    }
   ],
   "source": [
    "t"
   ]
  },
  {
   "cell_type": "code",
   "execution_count": null,
   "metadata": {},
   "outputs": [],
   "source": []
  }
 ],
 "metadata": {
  "interpreter": {
   "hash": "89ce7d9bf54abaf122e6a39f319f86f84fcb331f76987a5a2313102b2826ac00"
  },
  "kernelspec": {
   "display_name": "Python 3.8.8 64-bit ('opinion': conda)",
   "language": "python",
   "name": "python3"
  },
  "language_info": {
   "codemirror_mode": {
    "name": "ipython",
    "version": 3
   },
   "file_extension": ".py",
   "mimetype": "text/x-python",
   "name": "python",
   "nbconvert_exporter": "python",
   "pygments_lexer": "ipython3",
   "version": "3.8.8"
  },
  "orig_nbformat": 4
 },
 "nbformat": 4,
 "nbformat_minor": 2
}
