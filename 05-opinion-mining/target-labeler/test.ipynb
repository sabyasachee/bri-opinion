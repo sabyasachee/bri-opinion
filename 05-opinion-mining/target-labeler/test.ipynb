{
 "cells": [
  {
   "cell_type": "markdown",
   "source": [
    "## Printing histograms"
   ],
   "metadata": {}
  },
  {
   "cell_type": "code",
   "execution_count": 1,
   "source": [
    "import matplotlib.pyplot as plt\n",
    "import numpy as np"
   ],
   "outputs": [],
   "metadata": {}
  },
  {
   "cell_type": "code",
   "execution_count": 2,
   "source": [
    "x = np.random.randint(0, 100, 100)"
   ],
   "outputs": [],
   "metadata": {}
  },
  {
   "cell_type": "code",
   "execution_count": 3,
   "source": [
    "x.shape"
   ],
   "outputs": [
    {
     "output_type": "execute_result",
     "data": {
      "text/plain": [
       "(100,)"
      ]
     },
     "metadata": {},
     "execution_count": 3
    }
   ],
   "metadata": {}
  },
  {
   "cell_type": "code",
   "execution_count": 7,
   "source": [
    "np.histogram(x, bins = 10 * np.arange(11))"
   ],
   "outputs": [
    {
     "output_type": "execute_result",
     "data": {
      "text/plain": [
       "(array([ 8, 11,  4, 10, 12, 11, 17, 13,  6,  8]),\n",
       " array([  0,  10,  20,  30,  40,  50,  60,  70,  80,  90, 100]))"
      ]
     },
     "metadata": {},
     "execution_count": 7
    }
   ],
   "metadata": {}
  },
  {
   "cell_type": "code",
   "execution_count": 9,
   "source": [
    "((x >= 0) & (x <= 10)).sum()"
   ],
   "outputs": [
    {
     "output_type": "execute_result",
     "data": {
      "text/plain": [
       "9"
      ]
     },
     "metadata": {},
     "execution_count": 9
    }
   ],
   "metadata": {}
  },
  {
   "cell_type": "code",
   "execution_count": 17,
   "source": [
    "plt.figure(figsize = (10, 8))\n",
    "plt.rcParams.update({\"font.size\": 16})\n",
    "\n",
    "plt.hist(x, bins=10)\n",
    "ax = plt.gca()\n",
    "\n",
    "plt.title(\"Histogram\")\n",
    "plt.xlabel(\"x\")\n",
    "plt.ylabel(\"frequency\")\n",
    "\n",
    "plt.text(0.8, 0.8, \"max = {}\".format(x.max()), transform=ax.transAxes)\n",
    "\n",
    "plt.show()"
   ],
   "outputs": [
    {
     "output_type": "display_data",
     "data": {
      "image/png": "[encoded data removed]",
      "text/plain": [
       "<Figure size 720x576 with 1 Axes>"
      ]
     },
     "metadata": {
      "needs_background": "light"
     }
    }
   ],
   "metadata": {}
  },
  {
   "cell_type": "markdown",
   "source": [
    "## MPQA3 target labeler data"
   ],
   "metadata": {}
  },
  {
   "cell_type": "code",
   "execution_count": 1,
   "source": [
    "import pandas as pd\n",
    "import numpy as np\n",
    "import torch\n",
    "from torch.utils.data import TensorDataset, DataLoader\n",
    "from keras.preprocessing.sequence import pad_sequences\n",
    "import os\n",
    "import json\n",
    "from tqdm import tqdm\n",
    "from transformers import BertTokenizer"
   ],
   "outputs": [],
   "metadata": {}
  },
  {
   "cell_type": "code",
   "execution_count": 2,
   "source": [
    "tokenizer = BertTokenizer.from_pretrained(\"bert-base-cased\")"
   ],
   "outputs": [],
   "metadata": {}
  },
  {
   "cell_type": "code",
   "execution_count": 3,
   "source": [
    "fold_df = pd.read_csv(\"/workspace/opinion/results/opinion-mining/mpqa3/2fold.csv\", index_col=None)"
   ],
   "outputs": [],
   "metadata": {}
  },
  {
   "cell_type": "code",
   "execution_count": 4,
   "source": [
    "fold_df.head()"
   ],
   "outputs": [
    {
     "output_type": "execute_result",
     "data": {
      "text/html": [
       "<div>\n",
       "<style scoped>\n",
       "    .dataframe tbody tr th:only-of-type {\n",
       "        vertical-align: middle;\n",
       "    }\n",
       "\n",
       "    .dataframe tbody tr th {\n",
       "        vertical-align: top;\n",
       "    }\n",
       "\n",
       "    .dataframe thead th {\n",
       "        text-align: right;\n",
       "    }\n",
       "</style>\n",
       "<table border=\"1\" class=\"dataframe\">\n",
       "  <thead>\n",
       "    <tr style=\"text-align: right;\">\n",
       "      <th></th>\n",
       "      <th>doc_id</th>\n",
       "      <th>fold</th>\n",
       "    </tr>\n",
       "  </thead>\n",
       "  <tbody>\n",
       "    <tr>\n",
       "      <th>0</th>\n",
       "      <td>temp_fbis/20.46.39-9348</td>\n",
       "      <td>0</td>\n",
       "    </tr>\n",
       "    <tr>\n",
       "      <th>1</th>\n",
       "      <td>20011114/21.16.57-11242</td>\n",
       "      <td>0</td>\n",
       "    </tr>\n",
       "    <tr>\n",
       "      <th>2</th>\n",
       "      <td>non_fbis/08.39.09-12713</td>\n",
       "      <td>0</td>\n",
       "    </tr>\n",
       "    <tr>\n",
       "      <th>3</th>\n",
       "      <td>non_fbis/12.21.28-26118</td>\n",
       "      <td>0</td>\n",
       "    </tr>\n",
       "    <tr>\n",
       "      <th>4</th>\n",
       "      <td>temp_fbis/20.57.35-19171</td>\n",
       "      <td>0</td>\n",
       "    </tr>\n",
       "  </tbody>\n",
       "</table>\n",
       "</div>"
      ],
      "text/plain": [
       "                     doc_id  fold\n",
       "0   temp_fbis/20.46.39-9348     0\n",
       "1   20011114/21.16.57-11242     0\n",
       "2   non_fbis/08.39.09-12713     0\n",
       "3   non_fbis/12.21.28-26118     0\n",
       "4  temp_fbis/20.57.35-19171     0"
      ]
     },
     "metadata": {},
     "execution_count": 4
    }
   ],
   "metadata": {}
  },
  {
   "cell_type": "code",
   "execution_count": 5,
   "source": [
    "train_ids = fold_df.loc[fold_df[\"fold\"] == 0, \"doc_id\"].values"
   ],
   "outputs": [],
   "metadata": {}
  },
  {
   "cell_type": "code",
   "execution_count": 6,
   "source": [
    "train_ids"
   ],
   "outputs": [
    {
     "output_type": "execute_result",
     "data": {
      "text/plain": [
       "array(['temp_fbis/20.46.39-9348', '20011114/21.16.57-11242',\n",
       "       'non_fbis/08.39.09-12713', 'non_fbis/12.21.28-26118',\n",
       "       'temp_fbis/20.57.35-19171', 'non_fbis/16.01.44-19040',\n",
       "       'temp_fbis/20.45.06-5529', 'non_fbis/09.53.15-23595',\n",
       "       'temp_fbis/20.13.06-23605', 'non_fbis/10.24.29-21670',\n",
       "       'non_fbis/07.29.33-28852', 'temp_fbis/20.46.47-22286',\n",
       "       '20011024/21.53.09-11428', 'non_fbis/13.21.23-8227',\n",
       "       '20020306/20.49.12-24038', 'non_fbis/12.15.47-5091',\n",
       "       'non_fbis/08.36.15-7509', 'non_fbis/08.14.55-18533',\n",
       "       'temp_fbis/21.31.45-20536', 'non_fbis/08.40.56-18707',\n",
       "       'non_fbis/11.04.20-23621', 'non_fbis/11.21.37-22256',\n",
       "       '20020207/20.22.42-14586', 'non_fbis/08.47.00-17401',\n",
       "       '20020318/20.33.16-3417', 'non_fbis/05.20.33-11163',\n",
       "       '20020206/20.31.05-16359', '20020507/17.55.10-20068',\n",
       "       'temp_fbis/20.58.47-19000', 'non_fbis/04.51.05-27505',\n",
       "       'temp_fbis/21.37.46-9337', 'temp_fbis/20.20.10-3414',\n",
       "       'temp_fbis/21.39.02-16166', '20020315/20.21.54-4382',\n",
       "       'non_fbis/04.22.14-2532'], dtype=object)"
      ]
     },
     "metadata": {},
     "execution_count": 6
    }
   ],
   "metadata": {}
  },
  {
   "cell_type": "code",
   "execution_count": 7,
   "source": [
    "text = \"For all she lamented how her brother's mind shattered, many memories lost to the abyss of time, Arya found that much of her life in the North was harder and harder to recollect.\""
   ],
   "outputs": [],
   "metadata": {}
  },
  {
   "cell_type": "code",
   "execution_count": 8,
   "source": [
    "tokens = tokenizer.tokenize(text)"
   ],
   "outputs": [],
   "metadata": {}
  },
  {
   "cell_type": "code",
   "execution_count": 9,
   "source": [
    "tokens"
   ],
   "outputs": [
    {
     "output_type": "execute_result",
     "data": {
      "text/plain": [
       "['For',\n",
       " 'all',\n",
       " 'she',\n",
       " 'lame',\n",
       " '##nted',\n",
       " 'how',\n",
       " 'her',\n",
       " 'brother',\n",
       " \"'\",\n",
       " 's',\n",
       " 'mind',\n",
       " 'shattered',\n",
       " ',',\n",
       " 'many',\n",
       " 'memories',\n",
       " 'lost',\n",
       " 'to',\n",
       " 'the',\n",
       " 'a',\n",
       " '##byss',\n",
       " 'of',\n",
       " 'time',\n",
       " ',',\n",
       " 'A',\n",
       " '##rya',\n",
       " 'found',\n",
       " 'that',\n",
       " 'much',\n",
       " 'of',\n",
       " 'her',\n",
       " 'life',\n",
       " 'in',\n",
       " 'the',\n",
       " 'North',\n",
       " 'was',\n",
       " 'harder',\n",
       " 'and',\n",
       " 'harder',\n",
       " 'to',\n",
       " 're',\n",
       " '##co',\n",
       " '##lle',\n",
       " '##ct',\n",
       " '.']"
      ]
     },
     "metadata": {},
     "execution_count": 9
    }
   ],
   "metadata": {}
  },
  {
   "cell_type": "code",
   "execution_count": 10,
   "source": [
    "tokenizer.convert_tokens_to_ids(tokens)"
   ],
   "outputs": [
    {
     "output_type": "execute_result",
     "data": {
      "text/plain": [
       "[1370,\n",
       " 1155,\n",
       " 1131,\n",
       " 25492,\n",
       " 16736,\n",
       " 1293,\n",
       " 1123,\n",
       " 1711,\n",
       " 112,\n",
       " 188,\n",
       " 1713,\n",
       " 11670,\n",
       " 117,\n",
       " 1242,\n",
       " 5628,\n",
       " 1575,\n",
       " 1106,\n",
       " 1103,\n",
       " 170,\n",
       " 24598,\n",
       " 1104,\n",
       " 1159,\n",
       " 117,\n",
       " 138,\n",
       " 20845,\n",
       " 1276,\n",
       " 1115,\n",
       " 1277,\n",
       " 1104,\n",
       " 1123,\n",
       " 1297,\n",
       " 1107,\n",
       " 1103,\n",
       " 1456,\n",
       " 1108,\n",
       " 5747,\n",
       " 1105,\n",
       " 5747,\n",
       " 1106,\n",
       " 1231,\n",
       " 2528,\n",
       " 4838,\n",
       " 5822,\n",
       " 119]"
      ]
     },
     "metadata": {},
     "execution_count": 10
    }
   ],
   "metadata": {}
  },
  {
   "cell_type": "code",
   "execution_count": 11,
   "source": [
    "max_seq_len = 100"
   ],
   "outputs": [],
   "metadata": {}
  },
  {
   "cell_type": "code",
   "execution_count": 12,
   "source": [
    "wordids_list = []\n",
    "pos_list = []\n",
    "mask_list = []\n",
    "label_list = []"
   ],
   "outputs": [],
   "metadata": {}
  },
  {
   "cell_type": "code",
   "execution_count": null,
   "source": [
    "for id in train_ids:\n",
    "    file = os.path.join(\"/workspace/opinion/results/preprocessing-mpqa/mpqa3-processed/\", id, \"tokenized.json\")\n",
    "    doc = json.load(open(file))\n",
    "\n",
    "    for sentence in doc:\n",
    "\n",
    "        n_previous_tokens = np.zeros(len(sentence[\"tokens\"]) + 1)\n",
    "        wordpiece_tokens = []\n",
    "\n",
    "        for i, token in enumerate(sentence[\"tokens\"]):\n",
    "            wordpiece_tokens_from_single_token = tokenizer.tokenize(token)\n",
    "            wordpiece_tokens.extend(wordpiece_tokens_from_single_token)\n",
    "            n_previous_tokens[i + 1] = n_previous_tokens[i] + len(wordpiece_tokens_from_single_token)\n",
    "\n",
    "        dse_and_target_to_etarget = {}\n",
    "\n",
    "        for dse in sentence[\"dse\"]:\n",
    "\n",
    "            if dse[\"dse-span\"] and dse[\"target-type\"] == \"span\":\n",
    "\n",
    "                old_dse_span = dse[\"dse-span\"]\n",
    "                new_dse_span = [n_previous_tokens[old_dse_span[0]], n_previous_tokens[old_dse_span[1]]]\n",
    "\n",
    "                old_target_span = dse[\"target-span\"]\n",
    "                new_target_span = [n_previous_tokens[old_target_span[0]], n_previous_tokens[old_target_span[1]]]\n",
    "\n",
    "                dse_and_target_key = new_dse_span + new_target_span\n",
    "                dse_and_target_to_etarget[tuple(dse_and_target_key)] = set()\n",
    "        \n",
    "\n",
    "\n",
    "                "
   ],
   "outputs": [],
   "metadata": {}
  },
  {
   "cell_type": "markdown",
   "source": [
    "## Check if there is a one-to-one correspondence between DSE and SPAN TARGET in MPQA 3"
   ],
   "metadata": {}
  },
  {
   "cell_type": "code",
   "execution_count": 15,
   "source": [
    "import json\n",
    "import os\n",
    "from tqdm import tqdm\n",
    "from collections import Counter, defaultdict"
   ],
   "outputs": [],
   "metadata": {}
  },
  {
   "cell_type": "code",
   "execution_count": 13,
   "source": [
    "mpqa3_docids = open(\"/workspace/opinion/data/30-mpqa/database.mpqa.3.0/doclist\").read().splitlines()\n",
    "mpqa3_docs = [json.load(open(os.path.join(\"/workspace/opinion/results/preprocessing-mpqa/mpqa3-processed/\", docid, \"tokenized.json\"))) for docid in mpqa3_docids]"
   ],
   "outputs": [],
   "metadata": {}
  },
  {
   "cell_type": "code",
   "execution_count": 16,
   "source": [
    "dse_to_span_targets = []\n",
    "\n",
    "for doc in tqdm(mpqa3_docs):\n",
    "\n",
    "    for sentence in doc:\n",
    "\n",
    "        dse_to_span_target = defaultdict(lambda: set())\n",
    "\n",
    "        for dse in sentence[\"dse\"]:\n",
    "\n",
    "            if dse[\"dse-span\"] and dse[\"target-type\"] == \"span\":\n",
    "\n",
    "                dse_span = tuple(dse[\"dse-span\"])\n",
    "                target_span = tuple(dse[\"target-span\"])\n",
    "\n",
    "                dse_to_span_target[dse_span].add(target_span)\n",
    "\n",
    "        if dse_to_span_target:\n",
    "\n",
    "            dse_to_span_targets.append(dse_to_span_target)"
   ],
   "outputs": [
    {
     "output_type": "stream",
     "name": "stderr",
     "text": [
      "100%|██████████| 70/70 [00:00<00:00, 14234.52it/s]\n"
     ]
    }
   ],
   "metadata": {}
  },
  {
   "cell_type": "code",
   "execution_count": 18,
   "source": [
    "n_span_targets_per_dse = []\n",
    "\n",
    "for dse_to_span_target in dse_to_span_targets:\n",
    "    for span_targets in dse_to_span_target.values():\n",
    "        n_span_targets_per_dse.append(len(span_targets))"
   ],
   "outputs": [],
   "metadata": {}
  },
  {
   "cell_type": "code",
   "execution_count": 19,
   "source": [
    "Counter(n_span_targets_per_dse)"
   ],
   "outputs": [
    {
     "output_type": "execute_result",
     "data": {
      "text/plain": [
       "Counter({1: 1073, 2: 138, 7: 1, 3: 17, 4: 2})"
      ]
     },
     "metadata": {},
     "execution_count": 19
    }
   ],
   "metadata": {}
  },
  {
   "cell_type": "markdown",
   "source": [
    "## MPQA 3: check if etargets linked to stargets fall within the latter's span (use processed files)"
   ],
   "metadata": {}
  },
  {
   "cell_type": "code",
   "execution_count": 1,
   "source": [
    "import os\n",
    "import json\n",
    "from tqdm import tqdm\n",
    "from collections import Counter, defaultdict"
   ],
   "outputs": [],
   "metadata": {}
  },
  {
   "cell_type": "code",
   "execution_count": 4,
   "source": [
    "mpqa3_docids = open(\"/workspace/opinion/data/30-mpqa/database.mpqa.3.0/doclist\").read().splitlines()\n",
    "mpqa3_docs = [json.load(open(os.path.join(\"/workspace/opinion/results/preprocessing-mpqa/mpqa3-processed/\", docid, \"processed.json\"))) for docid in mpqa3_docids]"
   ],
   "outputs": [],
   "metadata": {}
  },
  {
   "cell_type": "code",
   "execution_count": 14,
   "source": [
    "n_stargets = 0\n",
    "\n",
    "n_linked_etargets = 0\n",
    "n_unlinked_etargets = 0\n",
    "\n",
    "n_linked_and_subsumed_etargets = 0\n",
    "n_linked_and_intersect_etargets = 0\n",
    "n_linked_and_disjoint_etargets = 0\n",
    "# checking overlap with only the linked starget\n",
    "\n",
    "n_unlinked_and_subsumed_etargets = 0\n",
    "n_unlinked_and_intersect_etargets = 0\n",
    "n_unlinked_and_disjoint_etargets = 0\n",
    "# checking overlap with any of the tgtframe starget\n",
    "\n",
    "for doc in mpqa3_docs:\n",
    "\n",
    "    for dse in doc[\"dse\"]:\n",
    "\n",
    "        for att in dse[\"matched-attitudes\"]:\n",
    "\n",
    "            tgtframe = att[\"matched-targetframe\"]\n",
    "\n",
    "            if tgtframe is not None:\n",
    "\n",
    "                for starget in tgtframe[\"matched-stargets\"]:\n",
    "\n",
    "                    starget_span = starget[\"span\"]\n",
    "                    etarget_spans = []\n",
    "\n",
    "                    for etarget in starget[\"matched-etargets\"]:\n",
    "\n",
    "                        if etarget[\"type\"] in [\"entity\", \"event\"]:\n",
    "                            etarget_spans.append(etarget[\"span\"])\n",
    "                    \n",
    "                    n_stargets += 1\n",
    "\n",
    "                    for etarget_span in etarget_spans:\n",
    "\n",
    "                        if starget_span[\"start\"] <= etarget_span[\"start\"] <= etarget_span[\"end\"] <= starget_span[\"end\"]:\n",
    "                            n_linked_and_subsumed_etargets += 1\n",
    "                        \n",
    "                        elif starget_span[\"end\"] <= etarget_span[\"start\"] or etarget_span[\"end\"] <= starget_span[\"start\"]:\n",
    "                            n_linked_and_disjoint_etargets += 1\n",
    "                        \n",
    "                        else:\n",
    "                            n_linked_and_intersect_etargets += 1\n",
    "                        \n",
    "                        n_linked_etargets += 1\n",
    "                \n",
    "                for etarget in tgtframe[\"matched-etargets\"]:\n",
    "\n",
    "                    if etarget[\"type\"] in [\"entity\", \"event\"]:\n",
    "\n",
    "                        etarget_span = etarget[\"span\"]\n",
    "\n",
    "                        is_subsumed = False\n",
    "                        is_disjoint = True\n",
    "                        is_intersect = False\n",
    "\n",
    "                        for starget in tgtframe[\"matched-stargets\"]:\n",
    "\n",
    "                            starget_span = starget[\"span\"]\n",
    "\n",
    "                            if starget_span[\"start\"] <= etarget_span[\"start\"] <= etarget_span[\"end\"] <= starget_span[\"end\"]:\n",
    "                                is_subsumed = True\n",
    "                            \n",
    "                            elif starget_span[\"end\"] <= etarget_span[\"start\"] or etarget_span[\"end\"] <= starget_span[\"start\"]:\n",
    "                                pass\n",
    "                            \n",
    "                            else:\n",
    "                                is_intersect = True\n",
    "                            \n",
    "                        n_unlinked_etargets += 1\n",
    "\n",
    "                        if is_subsumed:\n",
    "                            n_unlinked_and_subsumed_etargets += 1\n",
    "                        elif is_intersect:\n",
    "                            n_unlinked_and_intersect_etargets += 1\n",
    "                        else:\n",
    "                            n_unlinked_and_disjoint_etargets += 1"
   ],
   "outputs": [],
   "metadata": {}
  },
  {
   "cell_type": "code",
   "execution_count": 15,
   "source": [
    "print(\"{} stargets\".format(n_stargets))\n",
    "print(\"{} linked etargets  : {} subsumed, {} intersect, {} disjoint\".format(n_linked_etargets, n_linked_and_subsumed_etargets, n_linked_and_intersect_etargets, n_linked_and_disjoint_etargets))\n",
    "print(\"{} unlinked etargets: {} subsumed, {} intersect, {} disjoint\".format(n_unlinked_etargets, n_unlinked_and_subsumed_etargets, n_unlinked_and_intersect_etargets, n_unlinked_and_disjoint_etargets))"
   ],
   "outputs": [
    {
     "output_type": "stream",
     "name": "stdout",
     "text": [
      "2337 stargets\n",
      "1657 linked etargets  : 1622 subsumed, 1 intersect, 34 disjoint\n",
      "1506 unlinked etargets: 13 subsumed, 0 intersect, 1493 disjoint\n"
     ]
    }
   ],
   "metadata": {}
  },
  {
   "cell_type": "code",
   "execution_count": 16,
   "source": [
    "mpqa3_tokenized_docs = [json.load(open(os.path.join(\"/workspace/opinion/results/preprocessing-mpqa/mpqa3-processed/\", docid, \"tokenized.json\"))) for docid in mpqa3_docids]"
   ],
   "outputs": [],
   "metadata": {}
  },
  {
   "cell_type": "code",
   "execution_count": 17,
   "source": [
    "n_stargets = 0\n",
    "n_etargets = 0\n",
    "n_linked_etargets = 0\n",
    "n_unlinked_etargets = 0\n",
    "\n",
    "for doc in mpqa3_tokenized_docs:\n",
    "\n",
    "    for sentence in doc:\n",
    "\n",
    "        for dse in sentence[\"dse\"]:\n",
    "\n",
    "            if dse[\"target-type\"] == \"span\":\n",
    "                n_stargets += 1\n",
    "            \n",
    "            else:\n",
    "                \n",
    "                if dse[\"linked-to\"] == -1:\n",
    "                    n_unlinked_etargets += 1\n",
    "                \n",
    "                else:\n",
    "                    n_linked_etargets += 1\n",
    "                \n",
    "                n_etargets += 1\n",
    "\n",
    "print(\"{} stargets\".format(n_stargets))\n",
    "print(\"{} etargets: {} linked, {} unlinked\".format(n_etargets, n_linked_etargets, n_unlinked_etargets))"
   ],
   "outputs": [
    {
     "output_type": "stream",
     "name": "stdout",
     "text": [
      "1995 stargets\n",
      "2804 etargets: 1465 linked, 1339 unlinked\n"
     ]
    }
   ],
   "metadata": {}
  },
  {
   "cell_type": "markdown",
   "source": [
    "## Check WordPiece tokens of full sentence == WordPiece tokens of spacy tokens"
   ],
   "metadata": {}
  },
  {
   "cell_type": "code",
   "execution_count": 21,
   "source": [
    "from transformers import BertTokenizer\n",
    "import json\n",
    "import os\n",
    "from tqdm import tqdm\n",
    "from collections import Counter, defaultdict\n",
    "import spacy"
   ],
   "outputs": [],
   "metadata": {}
  },
  {
   "cell_type": "code",
   "execution_count": 19,
   "source": [
    "tokenizer = BertTokenizer.from_pretrained(\"bert-base-cased\")"
   ],
   "outputs": [],
   "metadata": {}
  },
  {
   "cell_type": "code",
   "execution_count": 22,
   "source": [
    "nlp = spacy.load(\"en_core_web_sm\")"
   ],
   "outputs": [],
   "metadata": {}
  },
  {
   "cell_type": "code",
   "execution_count": 20,
   "source": [
    "mpqa3_docids = open(\"/workspace/opinion/data/30-mpqa/database.mpqa.3.0/doclist\").read().splitlines()\n",
    "mpqa3_docs = [json.load(open(os.path.join(\"/workspace/opinion/results/preprocessing-mpqa/mpqa3-processed/\", docid, \"tokenized.json\"))) for docid in mpqa3_docids]"
   ],
   "outputs": [],
   "metadata": {}
  },
  {
   "cell_type": "code",
   "execution_count": 23,
   "source": [
    "n_sentences = 0\n",
    "n_sentences_tokens_equal_spacy = 0\n",
    "n_sentences_wordpiece_tokens_equal = 0\n",
    "\n",
    "for doc in mpqa3_docs:\n",
    "\n",
    "    for sentence in doc:\n",
    "\n",
    "        text = sentence[\"text\"]\n",
    "        tokens = sentence[\"tokens\"]\n",
    "\n",
    "        spacy_tokens = [token.text for token in nlp(text)]\n",
    "\n",
    "        wordpiece_tokens_from_text = tokenizer.tokenize(text)\n",
    "\n",
    "        wordpiece_tokens_from_single_tokens = [t for token in tokens for t in tokenizer.tokenize(token)]\n",
    "\n",
    "        n_sentences += 1\n",
    "        n_sentences_tokens_equal_spacy += tokens == spacy_tokens\n",
    "        n_sentences_wordpiece_tokens_equal += wordpiece_tokens_from_text == wordpiece_tokens_from_single_tokens\n",
    "\n",
    "print(\"{} sentences\".format(n_sentences))\n",
    "print(\"{} sentences: tokens == spacy\".format(n_sentences_tokens_equal_spacy))\n",
    "print(\"{} sentences: wordpiece tokens from single token == wordpiece tokens from full text\".format(n_sentences_wordpiece_tokens_equal))"
   ],
   "outputs": [
    {
     "output_type": "stream",
     "name": "stdout",
     "text": [
      "1653 sentences\n",
      "1653 sentences: tokens == spacy\n",
      "1612 sentences: wordpiece tokens from single token == wordpiece tokens from full text\n"
     ]
    }
   ],
   "metadata": {}
  },
  {
   "cell_type": "markdown",
   "source": [
    "## Target Labeler Data"
   ],
   "metadata": {}
  },
  {
   "cell_type": "code",
   "execution_count": 1,
   "source": [
    "import torch"
   ],
   "outputs": [],
   "metadata": {}
  },
  {
   "cell_type": "code",
   "execution_count": 2,
   "source": [
    "A = torch.randn((10, 3))\n",
    "B = torch.randn((10, 1))"
   ],
   "outputs": [],
   "metadata": {}
  },
  {
   "cell_type": "code",
   "execution_count": 3,
   "source": [
    "print(A)\n",
    "print(B)"
   ],
   "outputs": [
    {
     "output_type": "stream",
     "name": "stdout",
     "text": [
      "tensor([[ 0.2344,  0.5610,  1.2155],\n",
      "        [ 0.7290, -0.2219, -0.5218],\n",
      "        [-0.2209, -0.2749,  0.2222],\n",
      "        [ 0.1837, -0.7419, -0.0564],\n",
      "        [ 1.8950, -0.2207,  0.3677],\n",
      "        [-0.7403,  0.0106,  0.0923],\n",
      "        [-1.4558, -0.8410,  1.2017],\n",
      "        [ 0.0238, -1.3848,  0.5263],\n",
      "        [-0.6991, -0.5983,  0.6254],\n",
      "        [-1.0088, -0.7490,  0.3808]])\n",
      "tensor([[ 0.1963],\n",
      "        [ 2.5080],\n",
      "        [ 0.0825],\n",
      "        [ 0.3849],\n",
      "        [ 0.9214],\n",
      "        [ 0.4008],\n",
      "        [-1.0368],\n",
      "        [ 2.3449],\n",
      "        [-0.2258],\n",
      "        [ 0.7244]])\n"
     ]
    }
   ],
   "metadata": {}
  },
  {
   "cell_type": "code",
   "execution_count": 4,
   "source": [
    "A + B"
   ],
   "outputs": [
    {
     "output_type": "execute_result",
     "data": {
      "text/plain": [
       "tensor([[ 0.4306,  0.7572,  1.4118],\n",
       "        [ 3.2371,  2.2861,  1.9862],\n",
       "        [-0.1384, -0.1924,  0.3046],\n",
       "        [ 0.5687, -0.3570,  0.3285],\n",
       "        [ 2.8164,  0.7007,  1.2891],\n",
       "        [-0.3394,  0.4115,  0.4931],\n",
       "        [-2.4926, -1.8778,  0.1649],\n",
       "        [ 2.3687,  0.9601,  2.8712],\n",
       "        [-0.9249, -0.8242,  0.3996],\n",
       "        [-0.2844, -0.0246,  1.1052]])"
      ]
     },
     "metadata": {},
     "execution_count": 4
    }
   ],
   "metadata": {}
  },
  {
   "cell_type": "code",
   "execution_count": 10,
   "source": [
    "Z = torch.zeros((10, 1))"
   ],
   "outputs": [],
   "metadata": {}
  },
  {
   "cell_type": "code",
   "execution_count": 11,
   "source": [
    "torch.hstack([A, Z])"
   ],
   "outputs": [
    {
     "output_type": "execute_result",
     "data": {
      "text/plain": [
       "tensor([[ 0.2344,  0.5610,  1.2155,  0.0000],\n",
       "        [ 0.7290, -0.2219, -0.5218,  0.0000],\n",
       "        [-0.2209, -0.2749,  0.2222,  0.0000],\n",
       "        [ 0.1837, -0.7419, -0.0564,  0.0000],\n",
       "        [ 1.8950, -0.2207,  0.3677,  0.0000],\n",
       "        [-0.7403,  0.0106,  0.0923,  0.0000],\n",
       "        [-1.4558, -0.8410,  1.2017,  0.0000],\n",
       "        [ 0.0238, -1.3848,  0.5263,  0.0000],\n",
       "        [-0.6991, -0.5983,  0.6254,  0.0000],\n",
       "        [-1.0088, -0.7490,  0.3808,  0.0000]])"
      ]
     },
     "metadata": {},
     "execution_count": 11
    }
   ],
   "metadata": {}
  },
  {
   "cell_type": "code",
   "execution_count": 12,
   "source": [
    "A[:,-1]"
   ],
   "outputs": [
    {
     "output_type": "execute_result",
     "data": {
      "text/plain": [
       "tensor([ 1.2155, -0.5218,  0.2222, -0.0564,  0.3677,  0.0923,  1.2017,  0.5263,\n",
       "         0.6254,  0.3808])"
      ]
     },
     "metadata": {},
     "execution_count": 12
    }
   ],
   "metadata": {}
  },
  {
   "cell_type": "code",
   "execution_count": 16,
   "source": [
    "M = torch.randint(0, 2, (4, 5), dtype=torch.float32)"
   ],
   "outputs": [],
   "metadata": {}
  },
  {
   "cell_type": "code",
   "execution_count": 17,
   "source": [
    "M"
   ],
   "outputs": [
    {
     "output_type": "execute_result",
     "data": {
      "text/plain": [
       "tensor([[1., 0., 0., 1., 0.],\n",
       "        [0., 0., 1., 0., 1.],\n",
       "        [1., 0., 0., 1., 0.],\n",
       "        [1., 0., 1., 0., 0.]])"
      ]
     },
     "metadata": {},
     "execution_count": 17
    }
   ],
   "metadata": {}
  },
  {
   "cell_type": "code",
   "execution_count": 19,
   "source": [
    "int(M[2].sum())"
   ],
   "outputs": [
    {
     "output_type": "execute_result",
     "data": {
      "text/plain": [
       "2"
      ]
     },
     "metadata": {},
     "execution_count": 19
    }
   ],
   "metadata": {}
  },
  {
   "cell_type": "code",
   "execution_count": 20,
   "source": [
    "import numpy as np"
   ],
   "outputs": [],
   "metadata": {}
  },
  {
   "cell_type": "code",
   "execution_count": 22,
   "source": [
    "A"
   ],
   "outputs": [
    {
     "output_type": "execute_result",
     "data": {
      "text/plain": [
       "tensor([[ 0.2344,  0.5610,  1.2155],\n",
       "        [ 0.7290, -0.2219, -0.5218],\n",
       "        [-0.2209, -0.2749,  0.2222],\n",
       "        [ 0.1837, -0.7419, -0.0564],\n",
       "        [ 1.8950, -0.2207,  0.3677],\n",
       "        [-0.7403,  0.0106,  0.0923],\n",
       "        [-1.4558, -0.8410,  1.2017],\n",
       "        [ 0.0238, -1.3848,  0.5263],\n",
       "        [-0.6991, -0.5983,  0.6254],\n",
       "        [-1.0088, -0.7490,  0.3808]])"
      ]
     },
     "metadata": {},
     "execution_count": 22
    }
   ],
   "metadata": {}
  },
  {
   "cell_type": "code",
   "execution_count": 23,
   "source": [
    "a = np.random.randint(0, 3, 10)"
   ],
   "outputs": [],
   "metadata": {}
  },
  {
   "cell_type": "code",
   "execution_count": 24,
   "source": [
    "a"
   ],
   "outputs": [
    {
     "output_type": "execute_result",
     "data": {
      "text/plain": [
       "array([0, 1, 0, 2, 0, 2, 2, 1, 2, 2])"
      ]
     },
     "metadata": {},
     "execution_count": 24
    }
   ],
   "metadata": {}
  },
  {
   "cell_type": "code",
   "execution_count": 25,
   "source": [
    "A[a == 2]"
   ],
   "outputs": [
    {
     "output_type": "execute_result",
     "data": {
      "text/plain": [
       "tensor([[ 0.1837, -0.7419, -0.0564],\n",
       "        [-0.7403,  0.0106,  0.0923],\n",
       "        [-1.4558, -0.8410,  1.2017],\n",
       "        [-0.6991, -0.5983,  0.6254],\n",
       "        [-1.0088, -0.7490,  0.3808]])"
      ]
     },
     "metadata": {},
     "execution_count": 25
    }
   ],
   "metadata": {}
  },
  {
   "cell_type": "code",
   "execution_count": 26,
   "source": [
    "M = np.random.randint(0, 50, (10, 2))"
   ],
   "outputs": [],
   "metadata": {}
  },
  {
   "cell_type": "code",
   "execution_count": 27,
   "source": [
    "M"
   ],
   "outputs": [
    {
     "output_type": "execute_result",
     "data": {
      "text/plain": [
       "array([[48, 47],\n",
       "       [19, 18],\n",
       "       [ 4, 21],\n",
       "       [27, 33],\n",
       "       [17, 31],\n",
       "       [26, 33],\n",
       "       [24, 19],\n",
       "       [32, 20],\n",
       "       [26, 40],\n",
       "       [38, 21]])"
      ]
     },
     "metadata": {},
     "execution_count": 27
    }
   ],
   "metadata": {}
  },
  {
   "cell_type": "code",
   "execution_count": 28,
   "source": [
    "M[a == 2]"
   ],
   "outputs": [
    {
     "output_type": "execute_result",
     "data": {
      "text/plain": [
       "array([[27, 33],\n",
       "       [26, 33],\n",
       "       [24, 19],\n",
       "       [26, 40],\n",
       "       [38, 21]])"
      ]
     },
     "metadata": {},
     "execution_count": 28
    }
   ],
   "metadata": {}
  },
  {
   "cell_type": "code",
   "execution_count": 29,
   "source": [
    "A = torch.randn((10, 1))"
   ],
   "outputs": [],
   "metadata": {}
  },
  {
   "cell_type": "code",
   "execution_count": 35,
   "source": [
    "torch.argsort(A.flatten())"
   ],
   "outputs": [
    {
     "output_type": "execute_result",
     "data": {
      "text/plain": [
       "tensor([1, 6, 0, 5, 4, 7, 2, 9, 3, 8])"
      ]
     },
     "metadata": {},
     "execution_count": 35
    }
   ],
   "metadata": {}
  },
  {
   "cell_type": "code",
   "execution_count": 37,
   "source": [
    "B = torch.randn((5, 8))\n",
    "print(B)"
   ],
   "outputs": [
    {
     "output_type": "stream",
     "name": "stdout",
     "text": [
      "tensor([[ 1.9166, -0.1747, -1.7936,  1.1392, -1.4740, -0.6450,  0.5105,  0.4781],\n",
      "        [ 0.0471, -0.4609, -0.1483,  0.7911, -0.4687,  0.1696,  1.6275, -1.0929],\n",
      "        [ 0.5255,  0.9938, -1.4561,  0.0108, -0.7076, -1.0183,  0.0865,  1.0943],\n",
      "        [-0.6018, -0.8008, -0.1689, -0.5180,  0.8726,  0.4806,  0.9312,  0.6798],\n",
      "        [-0.7975,  1.1089,  0.7029, -2.4155, -1.0004, -0.3565,  0.3907,  0.0125]])\n"
     ]
    }
   ],
   "metadata": {}
  },
  {
   "cell_type": "code",
   "execution_count": 39,
   "source": [
    "B[[0, 1, 2]]"
   ],
   "outputs": [
    {
     "output_type": "execute_result",
     "data": {
      "text/plain": [
       "tensor([[ 1.9166, -0.1747, -1.7936,  1.1392, -1.4740, -0.6450,  0.5105,  0.4781],\n",
       "        [ 0.0471, -0.4609, -0.1483,  0.7911, -0.4687,  0.1696,  1.6275, -1.0929],\n",
       "        [ 0.5255,  0.9938, -1.4561,  0.0108, -0.7076, -1.0183,  0.0865,  1.0943]])"
      ]
     },
     "metadata": {},
     "execution_count": 39
    }
   ],
   "metadata": {}
  },
  {
   "cell_type": "code",
   "execution_count": 40,
   "source": [
    "len(B)"
   ],
   "outputs": [
    {
     "output_type": "execute_result",
     "data": {
      "text/plain": [
       "5"
      ]
     },
     "metadata": {},
     "execution_count": 40
    }
   ],
   "metadata": {}
  },
  {
   "cell_type": "code",
   "execution_count": null,
   "source": [],
   "outputs": [],
   "metadata": {}
  }
 ],
 "metadata": {
  "orig_nbformat": 4,
  "language_info": {
   "name": "python",
   "version": "3.8.8",
   "mimetype": "text/x-python",
   "codemirror_mode": {
    "name": "ipython",
    "version": 3
   },
   "pygments_lexer": "ipython3",
   "nbconvert_exporter": "python",
   "file_extension": ".py"
  },
  "kernelspec": {
   "name": "python3",
   "display_name": "Python 3.8.8 64-bit ('opinion': conda)"
  },
  "interpreter": {
   "hash": "8c1b64499a13ee5d79fc967064f9917a67087fbb03a8086d7a3483cfb0c7a96a"
  }
 },
 "nbformat": 4,
 "nbformat_minor": 2
}